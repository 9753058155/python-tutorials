{
 "cells": [
  {
   "cell_type": "markdown",
   "metadata": {},
   "source": [
    "# Day 1\n",
    "- About Python Language\n",
    "- Basic Syntax\n",
    "- Variable\n",
    "- Data Types\n",
    "- Decision making operators\n",
    "- Loops\n",
    "- Advance operation on list, tuples, dictionary"
   ]
  },
  {
   "cell_type": "markdown",
   "metadata": {},
   "source": [
    "# About Python Language\n",
    "\n",
    "Python is a widely used high-level programming language for general-purpose programming, created by Guido van Rossum and first released in 1991. An interpreted language, Python has a design philosophy that emphasizes code readability (notably using whitespace indentation to delimit code blocks rather than curly brackets or keywords), and a syntax that allows programmers to express concepts in fewer lines of code than might be used in languages such as C++ or Java.\n",
    "\n",
    "Python is meant to be an easily readable language. Its formatting is visually uncluttered, and it often uses English keywords where other languages use punctuation. Unlike many other languages, it does not use curly brackets to delimit blocks, and semicolons after statements are optional."
   ]
  },
  {
   "cell_type": "markdown",
   "metadata": {},
   "source": [
    "# Basic Syntax"
   ]
  },
  {
   "cell_type": "code",
   "execution_count": 1,
   "metadata": {},
   "outputs": [
    {
     "name": "stdout",
     "output_type": "stream",
     "text": [
      "Hello world!\n"
     ]
    }
   ],
   "source": [
    "print('Hello world!')"
   ]
  },
  {
   "cell_type": "code",
   "execution_count": 2,
   "metadata": {},
   "outputs": [
    {
     "name": "stdout",
     "output_type": "stream",
     "text": [
      "We're going to the store.\n",
      "He said \"Hi.\"\n"
     ]
    }
   ],
   "source": [
    "# Below line of code will give u error.\n",
    "# print('We're going to the store.')\n",
    "\n",
    "# Work around for this code is\n",
    "print(\"We're going to the store.\")\n",
    "\n",
    "print('He said \"Hi.\"')"
   ]
  },
  {
   "cell_type": "code",
   "execution_count": 3,
   "metadata": {},
   "outputs": [
    {
     "name": "stdout",
     "output_type": "stream",
     "text": [
      "We're going to the store.\n"
     ]
    }
   ],
   "source": [
    "# If u still want to use single quotes we use escape character i.e. \\ .\n",
    "print('We\\'re going to the store.')"
   ]
  },
  {
   "cell_type": "code",
   "execution_count": 4,
   "metadata": {},
   "outputs": [
    {
     "name": "stdout",
     "output_type": "stream",
     "text": [
      "Hi there\n",
      "Hi there\n"
     ]
    }
   ],
   "source": [
    "# To concatenate we use + sign\n",
    "print('Hi ' + 'there')\n",
    "\n",
    "# OR\n",
    "print('Hi','there')"
   ]
  },
  {
   "cell_type": "code",
   "execution_count": 5,
   "metadata": {},
   "outputs": [
    {
     "name": "stdout",
     "output_type": "stream",
     "text": [
      "Hi 5\n"
     ]
    }
   ],
   "source": [
    "# AND\n",
    "print('Hi', 5)"
   ]
  },
  {
   "cell_type": "code",
   "execution_count": 6,
   "metadata": {},
   "outputs": [
    {
     "name": "stdout",
     "output_type": "stream",
     "text": [
      "Hi 5\n"
     ]
    }
   ],
   "source": [
    "# Following code will give u error\n",
    "# print('Hi' + 5)\n",
    "\n",
    "# print string and integer both\n",
    "print('Hi ' + str(5))"
   ]
  },
  {
   "cell_type": "code",
   "execution_count": 7,
   "metadata": {},
   "outputs": [
    {
     "name": "stdout",
     "output_type": "stream",
     "text": [
      "What is your name?Swapnil Pote\n"
     ]
    }
   ],
   "source": [
    "name = input('What is your name?')"
   ]
  },
  {
   "cell_type": "code",
   "execution_count": 8,
   "metadata": {},
   "outputs": [
    {
     "name": "stdout",
     "output_type": "stream",
     "text": [
      "What is ur age?\n",
      "28\n"
     ]
    }
   ],
   "source": [
    "# print function is used for printing any thing inside it.\n",
    "print('What is ur age?')\n",
    "# input function is used for taking input from user.\n",
    "age = input()"
   ]
  },
  {
   "cell_type": "code",
   "execution_count": 9,
   "metadata": {},
   "outputs": [
    {
     "name": "stdout",
     "output_type": "stream",
     "text": [
      "My name is Swapnil Pote\n"
     ]
    }
   ],
   "source": [
    "print('My name is {}'.format(name))"
   ]
  },
  {
   "cell_type": "code",
   "execution_count": 10,
   "metadata": {},
   "outputs": [
    {
     "name": "stdout",
     "output_type": "stream",
     "text": [
      "My name is Swapnil Pote and 28\n"
     ]
    }
   ],
   "source": [
    "print('My name is {0} and {1}'.format(name, age))"
   ]
  },
  {
   "cell_type": "code",
   "execution_count": 11,
   "metadata": {},
   "outputs": [
    {
     "name": "stdout",
     "output_type": "stream",
     "text": [
      "Hello Swapnil Pote and you will be 29 in a year\n"
     ]
    }
   ],
   "source": [
    "# for single line comment use \"#\" symbol\n",
    "'''\n",
    "for multi line\n",
    "comment use 3 single inverted commas at beginning & at end\n",
    "'''\n",
    "print('Hello', name, 'and you will be', int(age) + 1, 'in a year')"
   ]
  },
  {
   "cell_type": "code",
   "execution_count": 12,
   "metadata": {},
   "outputs": [
    {
     "name": "stdout",
     "output_type": "stream",
     "text": [
      "Length of ur name is 12\n"
     ]
    }
   ],
   "source": [
    "# len function is used for counting length of the character store\n",
    "# into the variable\n",
    "'''\n",
    "It is necessary to convert int into string if u r concadnating using plus symbol\n",
    "to type cast use data type like this str(), int(), float()\n",
    "'''\n",
    "print('Length of ur name is ' + str(len(name)))"
   ]
  },
  {
   "cell_type": "code",
   "execution_count": null,
   "metadata": {},
   "outputs": [],
   "source": []
  }
 ],
 "metadata": {
  "kernelspec": {
   "display_name": "Python 3",
   "language": "python",
   "name": "python3"
  },
  "language_info": {
   "codemirror_mode": {
    "name": "ipython",
    "version": 3
   },
   "file_extension": ".py",
   "mimetype": "text/x-python",
   "name": "python",
   "nbconvert_exporter": "python",
   "pygments_lexer": "ipython3",
   "version": "3.6.3"
  }
 },
 "nbformat": 4,
 "nbformat_minor": 2
}
