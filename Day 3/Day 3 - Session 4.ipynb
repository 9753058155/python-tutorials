{
 "cells": [
  {
   "cell_type": "code",
   "execution_count": 1,
   "metadata": {},
   "outputs": [],
   "source": [
    "import re"
   ]
  },
  {
   "cell_type": "code",
   "execution_count": 2,
   "metadata": {},
   "outputs": [],
   "source": [
    "time1 = '10.00am'\n",
    "time2 = '11.45pm'"
   ]
  },
  {
   "cell_type": "code",
   "execution_count": 3,
   "metadata": {},
   "outputs": [],
   "source": [
    "def conv_24hr(time):\n",
    "    timeRegex = re.compile(r'((?:\\d){1,2})\\.((?:\\d){1,2})(am|pm)')\n",
    "    data = timeRegex.findall(time)\n",
    "    \n",
    "    if data[0][-1] == 'am':\n",
    "        newTime = (int(data[0][0]) * 60) + int(data[0][1])\n",
    "    else:\n",
    "        newTime = ((int(data[0][0]) + 12) * 60) + int(data[0][1])\n",
    "    return newTime"
   ]
  },
  {
   "cell_type": "code",
   "execution_count": 4,
   "metadata": {},
   "outputs": [],
   "source": [
    "time1 = conv_24hr(time1)\n",
    "time2 = conv_24hr(time2)"
   ]
  },
  {
   "cell_type": "code",
   "execution_count": 5,
   "metadata": {},
   "outputs": [
    {
     "name": "stdout",
     "output_type": "stream",
     "text": [
      "Time1 converted into 600 mintues\n"
     ]
    }
   ],
   "source": [
    "print('Time1 converted into {} mintues'.format(time1))"
   ]
  },
  {
   "cell_type": "code",
   "execution_count": 6,
   "metadata": {},
   "outputs": [
    {
     "name": "stdout",
     "output_type": "stream",
     "text": [
      "Time1 converted into 1425 mintues\n"
     ]
    }
   ],
   "source": [
    "print('Time1 converted into {} mintues'.format(time2))"
   ]
  },
  {
   "cell_type": "code",
   "execution_count": 7,
   "metadata": {},
   "outputs": [
    {
     "name": "stdout",
     "output_type": "stream",
     "text": [
      "Differences is 13.75 hrs\n"
     ]
    }
   ],
   "source": [
    "diff = abs(time1 - time2)\n",
    "print('Differences is {} hrs'.format(diff / 60))"
   ]
  },
  {
   "cell_type": "code",
   "execution_count": null,
   "metadata": {},
   "outputs": [],
   "source": []
  }
 ],
 "metadata": {
  "kernelspec": {
   "display_name": "Python 3",
   "language": "python",
   "name": "python3"
  },
  "language_info": {
   "codemirror_mode": {
    "name": "ipython",
    "version": 3
   },
   "file_extension": ".py",
   "mimetype": "text/x-python",
   "name": "python",
   "nbconvert_exporter": "python",
   "pygments_lexer": "ipython3",
   "version": "3.6.3"
  }
 },
 "nbformat": 4,
 "nbformat_minor": 2
}
